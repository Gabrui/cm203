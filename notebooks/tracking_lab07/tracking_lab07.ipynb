{
 "cells": [
  {
   "cell_type": "markdown",
   "metadata": {},
   "source": [
    "**Aeronautics Institute of Technology – ITA**\n",
    "\n",
    "**Computer Vision – CM-203**\n",
    "\n",
    "**Professors:** \n",
    "\n",
    "Marcos Ricardo Omena de Albuquerque Maximo\n",
    "\n",
    "Gabriel Adriano de Melo\n",
    "\n",
    "\n",
    "**Instructions:**\n",
    "\n",
    "Before submitting your lab, be sure that everything is running correctly (in sequence): first, **restart the kernel** (`Runtime->Restart Runtime` in Colab or `Kernel->Restart` in Jupyter). Then, execute all cells (`Runtime->Run All` in Colab or `Cell->Run All` in Jupyter) and verifies that all cells run without any errors, expecially the automatic grading ones, i.e. the ones with `assert`s.\n",
    "\n",
    "**Do not delete the answer cells**, i.e. the ones that contains `WRITE YOUR CODE HERE` or `WRITE YOUR ANSWER HERE`, because they contain metadata with the ids of the cells for the grading system. For the same reason, **do not delete the test cells**, i.e. the ones with `assert`s. The autograding system executes all the code sequentially, adding extra tests in the test cells. There is no problem in creating new cells, as long as you do not delete answer or test cells. Moreover, keep your solutions within the reserved spaces.\n",
    "\n",
    "The notebooks are implemented to be compatible with Google Colab, and they install the dependencies and download the datasets automatically. The commands which start with ! (exclamation mark) are bash commands and can be executed in a Linux terminal."
   ]
  },
  {
   "cell_type": "markdown",
   "metadata": {},
   "source": [
    "---"
   ]
  },
  {
   "cell_type": "markdown",
   "metadata": {
    "deletable": false,
    "editable": false,
    "nbgrader": {
     "cell_type": "markdown",
     "checksum": "716657e93a02bce26d119dba3bff2dd5",
     "grade": false,
     "grade_id": "cell-f4470462366eecea",
     "locked": true,
     "schema_version": 3,
     "solution": false,
     "task": false
    }
   },
   "source": [
    "## Installations and Configurations\n",
    "\n",
    "The following cells install dependencies and configure the notebook for the implementation of the laboratory."
   ]
  },
  {
   "cell_type": "code",
   "execution_count": null,
   "metadata": {
    "deletable": false,
    "editable": false,
    "nbgrader": {
     "cell_type": "code",
     "checksum": "d873355e1df24ac41478adfd618e4db2",
     "grade": false,
     "grade_id": "cell-fac36d6c0eb5f93b",
     "locked": true,
     "schema_version": 3,
     "solution": false,
     "task": false
    }
   },
   "outputs": [],
   "source": [
    "# This cell installs the dependencies\n",
    "\n",
    "!pip install numpy matplotlib"
   ]
  },
  {
   "cell_type": "code",
   "execution_count": null,
   "metadata": {
    "deletable": false,
    "editable": false,
    "nbgrader": {
     "cell_type": "code",
     "checksum": "c4d53e8d12ac3f0e1b4a175279569af5",
     "grade": false,
     "grade_id": "cell-872c69a004c33715",
     "locked": true,
     "schema_version": 3,
     "solution": false,
     "task": false
    }
   },
   "outputs": [],
   "source": [
    "# This cell imports the needed libraries\n",
    "\n",
    "import numpy as np\n",
    "import matplotlib.pyplot as plt\n",
    "from math import pi, sin, cos, inf"
   ]
  },
  {
   "cell_type": "code",
   "execution_count": null,
   "metadata": {
    "deletable": false,
    "editable": false,
    "nbgrader": {
     "cell_type": "code",
     "checksum": "beb13e570e005e9e7d2e17088beaec9e",
     "grade": false,
     "grade_id": "cell-d8d12d527c38aa38",
     "locked": true,
     "schema_version": 3,
     "solution": false,
     "task": false
    }
   },
   "outputs": [],
   "source": [
    "# This cell configures matplotlib\n",
    "\n",
    "plt.rcParams.update({'font.size': 14})"
   ]
  },
  {
   "cell_type": "code",
   "execution_count": null,
   "metadata": {
    "deletable": false,
    "editable": false,
    "nbgrader": {
     "cell_type": "code",
     "checksum": "436d269f557a7a312d0fac66f43136f8",
     "grade": false,
     "grade_id": "cell-eccb4cd571c2dd47",
     "locked": true,
     "schema_version": 3,
     "solution": false,
     "task": false
    }
   },
   "outputs": [],
   "source": [
    "# This cell defines a function for resetting the random seed\n",
    "\n",
    "def reset_seed():\n",
    "    np.random.seed(42) # 42 is the answer to the Ultimate Question of Life, the Universe, and Everything"
   ]
  },
  {
   "cell_type": "markdown",
   "metadata": {
    "deletable": false,
    "editable": false,
    "nbgrader": {
     "cell_type": "markdown",
     "checksum": "47b998c90bf0e642f17c7294c18dd4f0",
     "grade": false,
     "grade_id": "cell-2e315878416a38f6",
     "locked": true,
     "schema_version": 3,
     "solution": false,
     "task": false
    }
   },
   "source": [
    "## Implementation of the Stochastic Simulator\n",
    "\n",
    "First, to better understand the mathematical model used by the Kalman filter, you will implement the simulator using a stochastic dynamical system. Consider the equations in the state-space format as shown in class:\n",
    "\\begin{equation}\n",
    "\\mathbf{x}_t = \\mathbf{A} \\mathbf{x}_{t-1} + \\mathbf{B} \\mathbf{u}_t + \\mathbf{w}_t,\n",
    "\\end{equation}\n",
    "\\begin{equation}\n",
    "\\mathbf{z}_t = \\mathbf{C} \\mathbf{x}_t + \\mathbf{v}_t,\n",
    "\\end{equation}\n",
    "where $\\mathbf{A}$, $\\mathbf{B}$ e $\\mathbf{C}$ are matrices, $\\mathbf{x}_t$ is the state in the time step (discrete instant) $t$, $\\mathbf{u}_t$ is the control input relative to the time step $t$, and $\\mathbf{w}_t$ e $\\mathbf{v}_t$ are noises distributed such as $\\mathbf{w}_t \\sim \\mathcal{N}(\\mathbf{0}, \\mathbf{Q})$ and $\\mathbf{v}_t \\sim \\mathcal{N}(\\mathbf{0}, \\mathbf{R})$.\n",
    "Notice that despite the Kalman filter considering that the dynamical system can be time-varying, i.e. the matrices that determine how the system changes with time are time-varying, we will consider a time-invariant system for the sake of simplicity."
   ]
  },
  {
   "cell_type": "markdown",
   "metadata": {
    "deletable": false,
    "editable": false,
    "nbgrader": {
     "cell_type": "markdown",
     "checksum": "0eb189b4d16ae7ad22a0d7c41b48b2d7",
     "grade": false,
     "grade_id": "cell-68526cb80eb80c9f",
     "locked": true,
     "schema_version": 3,
     "solution": false,
     "task": false
    }
   },
   "source": [
    "In the following cell, we define the class `StochasticDynamicalSystemSimulator` to represent a stochastic dynamical system."
   ]
  },
  {
   "cell_type": "markdown",
   "metadata": {},
   "source": [
    "## Important note:\n",
    "\n",
    "This laboratory follows a convention where all matrices are 2-dimensional NumPy arrays. Moreover, 1D vectors are 2-dimensional arrays with a single column. With this convention, matrix multiplication works as usual (following the Math/MATLAB convention) if you use the @ operator."
   ]
  },
  {
   "cell_type": "code",
   "execution_count": null,
   "metadata": {
    "deletable": false,
    "editable": false,
    "nbgrader": {
     "cell_type": "code",
     "checksum": "7775ecc86a48061fb0087a76c5f9e2b2",
     "grade": false,
     "grade_id": "cell-9601b565ca8f6e71",
     "locked": true,
     "schema_version": 3,
     "solution": false,
     "task": false
    }
   },
   "outputs": [],
   "source": [
    "class StochasticDynamicalSystemSimulator:\n",
    "    \"\"\"\n",
    "    Represents a stochastic dynamical system simulator.\n",
    "    \"\"\"\n",
    "    def __init__(self, A, B, C, Q, R, x0):\n",
    "        \"\"\"\n",
    "        Initializes the simulator.\n",
    "        :param A: the state transition matrix.\n",
    "        :param B: the input matrix.\n",
    "        :param C: the observation matrix.\n",
    "        :param Q: the covariance matrix of the process noise.\n",
    "        :param R: the covariance matrix of the observation noise.\n",
    "        :param x0: the initial state of the simulation.\n",
    "        \"\"\"\n",
    "        self.A = A\n",
    "        self.B = B\n",
    "        self.C = C\n",
    "        self.Q = Q\n",
    "        self.R = R\n",
    "        self.x = x0"
   ]
  },
  {
   "cell_type": "markdown",
   "metadata": {
    "deletable": false,
    "editable": false,
    "nbgrader": {
     "cell_type": "markdown",
     "checksum": "2b9080bf92c8be9ce0ed20d8006e4001",
     "grade": false,
     "grade_id": "cell-5a636e95f626a33e",
     "locked": true,
     "schema_version": 3,
     "solution": false,
     "task": false
    }
   },
   "source": [
    "To allow simulations to test the implementation, we define matrices associated to a simple 1-dimensional kinematic dynamical system:\n",
    "\\begin{equation}\n",
    "\\mathbf{x}_t = \n",
    "\\begin{bmatrix}\n",
    "x_t \\\\ \\dot{x}_t\n",
    "\\end{bmatrix},\n",
    "\\end{equation}\n",
    "\\begin{equation}\n",
    "\\mathbf{A} = \n",
    "\\begin{bmatrix}\n",
    "1 & T \\\\ 0 & 1\n",
    "\\end{bmatrix},\n",
    "\\end{equation}\n",
    "\\begin{equation}\n",
    "\\mathbf{B} = \n",
    "\\begin{bmatrix}\n",
    "T^2/2 \\\\ T,\n",
    "\\end{bmatrix},\n",
    "\\end{equation}\n",
    "\\begin{equation}\n",
    "\\mathbf{C} = \n",
    "\\begin{bmatrix}\n",
    "1 & 0\n",
    "\\end{bmatrix},\n",
    "\\end{equation}\n",
    "where $T$ is the sample time. As shown in class, to determine $\\mathbf{Q}$, we adopt an input as a Gaussian noise with null mean and covariance $\\mathbf{M}$, so we compute\n",
    "\\begin{equation}\n",
    "\\mathbf{Q} = \\mathbf{B} \\mathbf{M} \\mathbf{B}^T.\n",
    "\\end{equation}\n",
    "Moreover, we have\n",
    "\\begin{equation}\n",
    "\\mathbf{M} = \\sigma_{\\mathrm{acc}}^2,\n",
    "\\end{equation}\n",
    "\\begin{equation}\n",
    "\\mathbf{R} = \\sigma_{\\mathrm{cam}}^2,\n",
    "\\end{equation}\n",
    "where $\\sigma_{\\mathrm{acc}}$ and $\\sigma_{\\mathrm{cam}}$ are variances associated to the uncertainties in acceleration and observation, respectively."
   ]
  },
  {
   "cell_type": "code",
   "execution_count": null,
   "metadata": {
    "deletable": false,
    "editable": false,
    "nbgrader": {
     "cell_type": "code",
     "checksum": "edfa81679d0dd920eda16a940c0ce1b0",
     "grade": false,
     "grade_id": "cell-7539c025540bb65f",
     "locked": true,
     "schema_version": 3,
     "solution": false,
     "task": false
    }
   },
   "outputs": [],
   "source": [
    "def get_system_1d(T, sigma_acc, sigma_cam):\n",
    "    \"\"\"\n",
    "    Obtains a stochastic dynamical system based on kinematics equations along a single axis \n",
    "    whose states are 1D position and velocity, and the input is 1D acceleration. Moreover, the\n",
    "    observation is the position.\n",
    "    :return A: the state transition matrix.\n",
    "    :return B: the input matrix.\n",
    "    :return C: the observation matrix.\n",
    "    :return Q: the covariance matrix of the process noise.\n",
    "    :return R: the covariance matrix of the observation noise.\n",
    "    \"\"\"\n",
    "    A = np.array([[1.0, T], [0.0, 1.0]])\n",
    "    B = np.array([[T ** 2 / 2.0], [T]])\n",
    "    C = np.array([[1.0, 0.0]])\n",
    "    M = np.array([[sigma_acc ** 2]])\n",
    "    Q = B @ M @ B.T\n",
    "    R = np.array([[sigma_cam ** 2]])\n",
    "    return A, B, C, Q, R"
   ]
  },
  {
   "cell_type": "markdown",
   "metadata": {
    "deletable": false,
    "editable": false,
    "nbgrader": {
     "cell_type": "markdown",
     "checksum": "87eab17e3e884b50be2d6ef23814919b",
     "grade": false,
     "grade_id": "cell-8e4019be3aad7b56",
     "locked": true,
     "schema_version": 3,
     "solution": false,
     "task": false
    }
   },
   "source": [
    "In the following, implement the method `step()` (from class `StochasticDynamicalSystemSimulator`), which executes a simulation step accordingly to\n",
    "\\begin{equation}\n",
    "\\mathbf{x}_t = \\mathbf{A} \\mathbf{x}_{t-1} + \\mathbf{B} \\mathbf{u}_t + \\mathbf{w}_t.\n",
    "\\end{equation}\n",
    "Hint: to generate the noise $\\mathbf{w}_t$, use the function `np.random.multivariate_normal()` from NumPy. Considering the conventions adopted in the laboratory, we need to call the function as:\n",
    "\n",
    "`np.random.multivariate_normal(mean, covariance, 1).T`,\n",
    "\n",
    "where `mean` is the mean (a 1-dimensioanl `np.array` with zeros), `covariance` is the covariance matrix (in our case, $\\mathbf{Q}$) and the last argument indicates that a single random sample will be generated."
   ]
  },
  {
   "cell_type": "code",
   "execution_count": null,
   "metadata": {
    "deletable": false,
    "nbgrader": {
     "cell_type": "code",
     "checksum": "d9379e5f69c30ca156d6209f2abda5bd",
     "grade": false,
     "grade_id": "step_answer",
     "locked": false,
     "schema_version": 3,
     "solution": true,
     "task": false
    }
   },
   "outputs": [],
   "source": [
    "def step(self, u : np.ndarray):\n",
    "    \"\"\"\n",
    "    Steps the simulation.\n",
    "    :param u: the control input.\n",
    "    :return: updated state after the step.\n",
    "    \"\"\"\n",
    "    # WRITE YOUR CODE HERE! (you can delete this comment, but do not delete this cell so the ID is not lost)\n",
    "    raise NotImplementedError()\n",
    "    return self.x\n",
    "\n",
    "# Adding the step() method to the StochasticDynamicalSystemSimulator class\n",
    "StochasticDynamicalSystemSimulator.step = step"
   ]
  },
  {
   "cell_type": "code",
   "execution_count": null,
   "metadata": {
    "deletable": false,
    "editable": false,
    "nbgrader": {
     "cell_type": "code",
     "checksum": "be1101d21e35de07e4aa65fce7f4f6de",
     "grade": true,
     "grade_id": "step_tests",
     "locked": true,
     "points": 2,
     "schema_version": 3,
     "solution": false,
     "task": false
    }
   },
   "outputs": [],
   "source": [
    "T = 0.1\n",
    "sigma_acc = 2.0\n",
    "sigma_cam = 0.9\n",
    "x0 = np.array([[0.1], [1.0]])\n",
    "u = np.array([[1.0]])\n",
    "reset_seed()\n",
    "A, B, C, Q, R = get_system_1d(T, sigma_acc, sigma_cam)\n",
    "\n",
    "simulator = StochasticDynamicalSystemSimulator(A, B, C, Q, R, x0)\n",
    "x = simulator.step(u)\n",
    "print(x)\n",
    "assert np.max(np.abs(x - np.array([[0.20003286], [1.00065717]]))) < 1e-3"
   ]
  },
  {
   "cell_type": "markdown",
   "metadata": {
    "deletable": false,
    "editable": false,
    "nbgrader": {
     "cell_type": "markdown",
     "checksum": "5113db2276389676335d79cb3375a0ac",
     "grade": false,
     "grade_id": "cell-374313e2b523680e",
     "locked": true,
     "schema_version": 3,
     "solution": false,
     "task": false
    }
   },
   "source": [
    "The following code executes 100 Monte Carlo simulations, executing 100 simulation steps for each Monte Carlo simulation. Therefore, we can visualize the evolution of the stochastic dynamical system. Moreover, the 1-dimesional kinematic model is used."
   ]
  },
  {
   "cell_type": "code",
   "execution_count": null,
   "metadata": {
    "deletable": false,
    "editable": false,
    "nbgrader": {
     "cell_type": "code",
     "checksum": "8848cf167e4d5465c00b6f86121d7276",
     "grade": false,
     "grade_id": "cell-02fcfa6f206693ea",
     "locked": true,
     "schema_version": 3,
     "solution": false,
     "task": false
    }
   },
   "outputs": [],
   "source": [
    "T = 0.1\n",
    "sigma_acc = 2.0\n",
    "sigma_cam = 0.9\n",
    "x0 = np.array([[0.1], [1.0]])\n",
    "u = np.array([[1.0]])\n",
    "reset_seed()\n",
    "A, B, C, Q, R = get_system_1d(T, sigma_acc, sigma_cam)\n",
    "\n",
    "num_mc = 100\n",
    "num_steps = 100\n",
    "time = T * np.arange(num_steps) + T\n",
    "x_history = np.zeros((A.shape[0], num_steps))\n",
    "plt.figure()\n",
    "for m in range(num_mc):\n",
    "    simulator = StochasticDynamicalSystemSimulator(A, B, C, Q, R, x0)\n",
    "    for i in range(num_steps):\n",
    "        x_history[:, i] = simulator.step(u).T\n",
    "    plt.plot(time, x_history[0, :])\n",
    "plt.xlabel('Time (s)')\n",
    "plt.ylabel('Position (m)')\n",
    "plt.title('Monte Carlo Simulation')\n",
    "plt.grid()"
   ]
  },
  {
   "cell_type": "markdown",
   "metadata": {},
   "source": [
    "In the following, implement the method `observe()` (from class `StochasticDynamicalSystemSimulator`), which generates an observation accordingly to\n",
    "\\begin{equation}\n",
    "\\mathbf{z}_t = \\mathbf{C} \\mathbf{x}_t + \\mathbf{v}_t.\n",
    "\\end{equation}"
   ]
  },
  {
   "cell_type": "code",
   "execution_count": null,
   "metadata": {
    "deletable": false,
    "nbgrader": {
     "cell_type": "code",
     "checksum": "70982ecfdc15ce2df6de8174c84fa1cd",
     "grade": false,
     "grade_id": "observe_answer",
     "locked": false,
     "schema_version": 3,
     "solution": true,
     "task": false
    }
   },
   "outputs": [],
   "source": [
    "def observe(self):\n",
    "    \"\"\"\n",
    "    Obtains an observation.\n",
    "    :return: an observation of the system.\n",
    "    \"\"\"\n",
    "    # WRITE YOUR CODE HERE! (you can delete this comment, but do not delete this cell so the ID is not lost)\n",
    "    raise NotImplementedError()\n",
    "    return z\n",
    "\n",
    "# Adding the observe() method to the StochasticDynamicalSystemSimulator class\n",
    "StochasticDynamicalSystemSimulator.observe = observe"
   ]
  },
  {
   "cell_type": "code",
   "execution_count": null,
   "metadata": {
    "deletable": false,
    "editable": false,
    "nbgrader": {
     "cell_type": "code",
     "checksum": "90c36c406c03c88bce0c1db88744f14f",
     "grade": true,
     "grade_id": "observe_tests",
     "locked": true,
     "points": 2,
     "schema_version": 3,
     "solution": false,
     "task": false
    }
   },
   "outputs": [],
   "source": [
    "T = 0.1\n",
    "sigma_acc = 2.0\n",
    "sigma_cam = 0.9\n",
    "x0 = np.array([[0.1], [1.0]])\n",
    "u = np.array([[1.0]])\n",
    "z = np.array([[3.0]])\n",
    "A, B, C, Q, R = get_system_1d(T, sigma_acc, sigma_cam)\n",
    "reset_seed()\n",
    "\n",
    "simulator = StochasticDynamicalSystemSimulator(A, B, C, Q, R, x0)\n",
    "z = simulator.observe()\n",
    "assert np.max(np.abs(z - np.array([[0.54704274]]))) < 1e-3\n",
    "print(z)"
   ]
  },
  {
   "cell_type": "markdown",
   "metadata": {
    "deletable": false,
    "editable": false,
    "nbgrader": {
     "cell_type": "markdown",
     "checksum": "ab1ac41032129788c76f6c851496eeff",
     "grade": false,
     "grade_id": "cell-eb8ef62d75235f2a",
     "locked": true,
     "schema_version": 3,
     "solution": false,
     "task": false
    }
   },
   "source": [
    "The following cell generates 10000 observations. Then, it shows a histogram of the measurements, together with their average and variance."
   ]
  },
  {
   "cell_type": "code",
   "execution_count": null,
   "metadata": {
    "deletable": false,
    "editable": false,
    "nbgrader": {
     "cell_type": "code",
     "checksum": "aeaa8c7473dd59c95c6eb8d5edd0388b",
     "grade": false,
     "grade_id": "cell-3c94bafba81077c8",
     "locked": true,
     "schema_version": 3,
     "solution": false,
     "task": false
    }
   },
   "outputs": [],
   "source": [
    "T = 0.1\n",
    "sigma_acc = 2.0\n",
    "sigma_cam = 0.9\n",
    "x0 = np.array([[0.1], [1.0]])\n",
    "z = np.array([[3.0]])\n",
    "A, B, C, Q, R = get_system_1d(T, sigma_acc, sigma_cam)\n",
    "reset_seed()\n",
    "\n",
    "num_steps = 10000\n",
    "z_history = np.zeros((C.shape[0], num_steps))\n",
    "plt.figure()\n",
    "simulator = StochasticDynamicalSystemSimulator(A, B, C, Q, R, x0)\n",
    "for i in range(num_steps):\n",
    "    z_history[:, i] = simulator.observe()\n",
    "plt.plot(z_history[0, :])\n",
    "plt.plot(np.mean(z_history[0, :]) * np.ones_like(z_history[0, :]), '--')\n",
    "plt.grid()\n",
    "plt.xlabel('Iteration (-)')\n",
    "plt.ylabel('Observation (m)')\n",
    "plt.title('Observation Simulation')\n",
    "\n",
    "plt.figure()\n",
    "plt.grid()\n",
    "plt.hist(z_history[0, :], 100)\n",
    "plt.xlabel('Position (m)')\n",
    "plt.ylabel('Frequency (-)')\n",
    "plt.title('Histogram of Observations')\n",
    "\n",
    "print('Mean: ', np.mean(z_history[0, :]))\n",
    "print('Std: ', np.std(z_history[0, :]))"
   ]
  },
  {
   "cell_type": "markdown",
   "metadata": {
    "deletable": false,
    "editable": false,
    "nbgrader": {
     "cell_type": "markdown",
     "checksum": "39c5aaa3f029d6999eb8716b31ae1755",
     "grade": false,
     "grade_id": "cell-8b163c089e648781",
     "locked": true,
     "schema_version": 3,
     "solution": false,
     "task": false
    }
   },
   "source": [
    "In the following, we define a Kalman filter. The Kalman filter consists of two steps: prediction and filtering. The prediction step is given by the following equations:\n",
    "\\begin{equation}\n",
    "\\hat{\\mathbf{x}}^-_t = \\mathbf{A} \\hat{\\mathbf{x}}_{t-1}^+ + \\mathbf{B} \\mathbf{u}_t,\n",
    "\\end{equation}\n",
    "\\begin{equation}\n",
    "\\mathbf{P}^-_t = \\mathbf{A} \\mathbf{P}^+_{t-1} \\mathbf{A}^T + \\mathbf{Q},\n",
    "\\end{equation}\n",
    "where $\\hat{\\mathbf{x}}^-_t$ e $\\mathbf{P}^-_t$ represent, respectively, the mean and the covariance of the estimate in the time step $t$, before incorporating the observation. Then, the filtering step is given by the following equations:\n",
    "\\begin{equation}\n",
    "\\mathbf{K}_t = \\mathbf{P}^-_t \\mathbf{C}^T (\\mathbf{R} + \\mathbf{C} \\mathbf{P}^-_t \\mathbf{C}^T)^{-1},\n",
    "\\end{equation}\n",
    "\\begin{equation}\n",
    "\\hat{\\mathbf{x}}^+_t = \\hat{\\mathbf{x}}^-_t + \\mathbf{K}_t (\\mathbf{z}_t - \\mathbf{C} \\hat{\\mathbf{x}}^-_t),\n",
    "\\end{equation}\n",
    "\\begin{equation}\n",
    "\\mathbf{P}^+_t = \\mathbf{P}^-_t - \\mathbf{K}_t \\mathbf{C} \\mathbf{P}^-_t,\n",
    "\\end{equation}\n",
    "where $\\hat{\\mathbf{x}}^+_t$ e $\\mathbf{P}^+_t$ are, respectively, the average and the covariance of the estimate in the time step $t$, after incorporating the observation."
   ]
  },
  {
   "cell_type": "code",
   "execution_count": null,
   "metadata": {
    "deletable": false,
    "editable": false,
    "nbgrader": {
     "cell_type": "code",
     "checksum": "bac34a4166e4e590485d53d281d7760b",
     "grade": false,
     "grade_id": "cell-27186d578ee1a66d",
     "locked": true,
     "schema_version": 3,
     "solution": false,
     "task": false
    }
   },
   "outputs": [],
   "source": [
    "class KalmanFilter:\n",
    "    \"\"\"\n",
    "    This class represents a Kalman filter. It considers a \n",
    "    time-invariant stochastic dynamical system as its model.\n",
    "    \"\"\"\n",
    "    def __init__(self, A, B, C, Q, R, x0, P0):\n",
    "        \"\"\"\n",
    "        Initializes the Kalman filter.\n",
    "        :param A: the state transition matrix.\n",
    "        :param B: the input matrix.\n",
    "        :param C: the observation matrix.\n",
    "        :param Q: the covariance matrix of the process noise.\n",
    "        :param R: the covariance matrix of the observation noise.\n",
    "        :param x0: the initial mean of the estimate.\n",
    "        :param P0: the initial covariance matrix of the estimate.\n",
    "        \"\"\"\n",
    "        self.A = A\n",
    "        self.B = B\n",
    "        self.C = C\n",
    "        self.Q = Q\n",
    "        self.R = R\n",
    "        self.reset(x0, P0)\n",
    "        \n",
    "    def reset(self, x0, P0):\n",
    "        \"\"\"\n",
    "        Resets the filter.\n",
    "        :param x0: the new mean of the estimate after the reset.\n",
    "        :param P0: the covariance matrix of the estimate after the reset.\n",
    "        \"\"\"\n",
    "        self.x = x0\n",
    "        self.P = P0"
   ]
  },
  {
   "cell_type": "markdown",
   "metadata": {
    "deletable": false,
    "editable": false,
    "nbgrader": {
     "cell_type": "markdown",
     "checksum": "44f1a72c84ef11a6548dc8214bb73056",
     "grade": false,
     "grade_id": "cell-97a98b4d0b683423",
     "locked": true,
     "schema_version": 3,
     "solution": false,
     "task": false
    }
   },
   "source": [
    "Implement the method `predict()`, which executes a prediction step of the Kalman filter."
   ]
  },
  {
   "cell_type": "code",
   "execution_count": null,
   "metadata": {
    "deletable": false,
    "nbgrader": {
     "cell_type": "code",
     "checksum": "20dc274408b6b2f61afadd2277a22158",
     "grade": false,
     "grade_id": "predict_answer",
     "locked": false,
     "schema_version": 3,
     "solution": true,
     "task": false
    }
   },
   "outputs": [],
   "source": [
    "def predict(self, u : np.ndarray):\n",
    "    \"\"\"\n",
    "    Executes a prediction step.\n",
    "    :param u: the control input.\n",
    "    :return x: updated mean of the estimate.\n",
    "    :return P: updated covariance matrix of the estimate.\n",
    "    \"\"\"\n",
    "    # WRITE YOUR CODE HERE! (you can delete this comment, but do not delete this cell so the ID is not lost)\n",
    "    raise NotImplementedError()\n",
    "    return self.x, self.P\n",
    "\n",
    "# Adding the predict() method to the KalmanFilter class\n",
    "KalmanFilter.predict = predict"
   ]
  },
  {
   "cell_type": "code",
   "execution_count": null,
   "metadata": {
    "deletable": false,
    "editable": false,
    "nbgrader": {
     "cell_type": "code",
     "checksum": "d4f1049f9c253fee8ab9eb27f7c2281d",
     "grade": true,
     "grade_id": "predict_tests",
     "locked": true,
     "points": 2,
     "schema_version": 3,
     "solution": false,
     "task": false
    }
   },
   "outputs": [],
   "source": [
    "T = 0.1\n",
    "sigma_acc = 2.0\n",
    "sigma_cam = 0.9\n",
    "x0 = np.array([[0.1], [1.0]])\n",
    "P0 = np.identity(2)\n",
    "u = np.array([[1.0]])\n",
    "A, B, C, Q, R = get_system_1d(T, sigma_acc, sigma_cam)\n",
    "reset_seed()\n",
    "\n",
    "filter = KalmanFilter(A, B, C, Q, R, x0, P0)\n",
    "filter.predict(u)\n",
    "print(filter.x)\n",
    "print(filter.P)\n",
    "assert np.max(np.abs(filter.x - np.array([[0.205], [1.1]]))) < 1e-3\n",
    "assert np.max(np.abs(filter.P - np.array([[1.0101, 0.102], [0.102,  1.04]]))) < 1e-3"
   ]
  },
  {
   "cell_type": "markdown",
   "metadata": {
    "deletable": false,
    "editable": false,
    "nbgrader": {
     "cell_type": "markdown",
     "checksum": "b0250081b256e7cffeff236dc70fde38",
     "grade": false,
     "grade_id": "cell-7bf1e984e986fecd",
     "locked": true,
     "schema_version": 3,
     "solution": false,
     "task": false
    }
   },
   "source": [
    "The following code executes an experiment in which the Kalman filter is initialized with the same state as the simulator, but the estimate is updated only with prediction steps. Therefore, the estimate tends to diverge from the real state through time, since there are no corrections from observations. This phenomenon is the so-called *drift*."
   ]
  },
  {
   "cell_type": "code",
   "execution_count": null,
   "metadata": {
    "deletable": false,
    "editable": false,
    "nbgrader": {
     "cell_type": "code",
     "checksum": "e33843725fef25cc89cf00aef6a9c990",
     "grade": false,
     "grade_id": "cell-e2028a947bc00a1b",
     "locked": true,
     "schema_version": 3,
     "solution": false,
     "task": false
    }
   },
   "outputs": [],
   "source": [
    "T = 0.1\n",
    "sigma_acc = 2.0\n",
    "sigma_cam = 0.9\n",
    "x0 = np.array([[0.1], [1.0]])\n",
    "P0 = np.identity(2)\n",
    "u = np.array([[1.0]])\n",
    "A, B, C, Q, R = get_system_1d(T, sigma_acc, sigma_cam)\n",
    "reset_seed()\n",
    "\n",
    "num_steps = 100\n",
    "time = T * np.arange(num_steps) + T\n",
    "x_history = np.zeros((A.shape[0], num_steps))\n",
    "z_history = np.zeros((C.shape[0], num_steps))\n",
    "xhat_history = np.zeros((A.shape[0], num_steps))\n",
    "simulator = StochasticDynamicalSystemSimulator(A, B, C, Q, R, x0)\n",
    "filter = KalmanFilter(A, B, C, Q, R, x0, P0)\n",
    "for i in range(num_steps):\n",
    "    x_history[:, i] = simulator.step(u).T\n",
    "    z_history[:, i] = simulator.observe()\n",
    "    xhat, _ = filter.predict(u)\n",
    "    xhat_history[:, i] = xhat.T\n",
    "    \n",
    "plt.figure()\n",
    "plt.plot(time, x_history[0, :])\n",
    "plt.plot(time, xhat_history[0, :])\n",
    "plt.plot(time, z_history[0, :], '.')\n",
    "plt.grid()\n",
    "plt.xlabel('Time (s)')\n",
    "plt.ylabel('Position (m)')\n",
    "plt.title('Position Filtering (Prediction Only)')\n",
    "plt.legend(['Ground Truth', 'Estimate', 'Observation'])\n",
    "\n",
    "plt.figure()\n",
    "plt.plot(time, x_history[1, :])\n",
    "plt.plot(time, xhat_history[1, :])\n",
    "plt.grid()\n",
    "plt.xlabel('Time (s)')\n",
    "plt.ylabel('Velocity (m/s)')\n",
    "plt.title('Velocity Filtering (Prediction Only)')\n",
    "plt.legend(['Ground Truth', 'Estimate'])"
   ]
  },
  {
   "cell_type": "markdown",
   "metadata": {
    "deletable": false,
    "editable": false,
    "nbgrader": {
     "cell_type": "markdown",
     "checksum": "9292ecee8b86610c0902e0bbe1f6146f",
     "grade": false,
     "grade_id": "cell-0ad4d5d8bfdcbf1e",
     "locked": true,
     "schema_version": 3,
     "solution": false,
     "task": false
    }
   },
   "source": [
    "In the following, implement the method `filter()`, which executes a filtering step of the Kalman filter."
   ]
  },
  {
   "cell_type": "code",
   "execution_count": null,
   "metadata": {
    "deletable": false,
    "nbgrader": {
     "cell_type": "code",
     "checksum": "4f081d11dee417effc3c0d4796259001",
     "grade": false,
     "grade_id": "filter_answer",
     "locked": false,
     "schema_version": 3,
     "solution": true,
     "task": false
    }
   },
   "outputs": [],
   "source": [
    "def filter(self, z):\n",
    "    \"\"\"\n",
    "    Executes a filtering step.\n",
    "    :param z: observation.\n",
    "    :return x: updated mean of the estimate.\n",
    "    :return P: updated covariance matrix of the estimate.\n",
    "    \"\"\"\n",
    "    # WRITE YOUR CODE HERE! (you can delete this comment, but do not delete this cell so the ID is not lost)\n",
    "    raise NotImplementedError()\n",
    "    return self.x, self.P\n",
    "\n",
    "# Adding the filter() method to the KalmanFilter class\n",
    "KalmanFilter.filter = filter"
   ]
  },
  {
   "cell_type": "code",
   "execution_count": null,
   "metadata": {
    "deletable": false,
    "editable": false,
    "nbgrader": {
     "cell_type": "code",
     "checksum": "ec36e725fd49a7f340d2f3ed4b702afd",
     "grade": true,
     "grade_id": "filter_tests",
     "locked": true,
     "points": 2,
     "schema_version": 3,
     "solution": false,
     "task": false
    }
   },
   "outputs": [],
   "source": [
    "T = 0.1\n",
    "sigma_acc = 2.0\n",
    "sigma_cam = 0.9\n",
    "x0 = np.array([[0.1], [1.0]])\n",
    "P0 = np.identity(2)\n",
    "z = np.array([[3.0]])\n",
    "A, B, C, Q, R = get_system_1d(T, sigma_acc, sigma_cam)\n",
    "reset_seed()\n",
    "\n",
    "filter = KalmanFilter(A, B, C, Q, R, x0, P0)\n",
    "filter.filter(z)\n",
    "print(filter.x)\n",
    "print(filter.P)\n",
    "assert np.max(np.abs(filter.x - np.array([[1.70220994], [1.0]]))) < 1e-3\n",
    "assert np.max(np.abs(filter.P - np.array([[0.44751381, 0.0], [0.0,  1.0]]))) < 1e-3"
   ]
  },
  {
   "cell_type": "markdown",
   "metadata": {
    "deletable": false,
    "editable": false,
    "nbgrader": {
     "cell_type": "markdown",
     "checksum": "e5957939dff95ce5e3472fe670c60ccc",
     "grade": false,
     "grade_id": "cell-daf1b4faff8f7663",
     "locked": true,
     "schema_version": 3,
     "solution": false,
     "task": false
    }
   },
   "source": [
    "In the following, we execute a complete simulation of the Kalman filter, considering the prediction and filtering steps. In this case, we consider that the filter has access to the control input $\\mathbf{u}_t$. The estimate of the velocity observation is obtained through numeric differentiation:\n",
    "\\begin{equation}\n",
    "\\dot{x}_t \\approx \\frac{x_t - x_{t-1}}{T}.\n",
    "\\end{equation}\n",
    "Notice that the Kalman filter has a performance much superior regarding velocity estimate, when comparing with the numeric differentiation. As discussed in class, differentiation tends to amplify noise."
   ]
  },
  {
   "cell_type": "code",
   "execution_count": null,
   "metadata": {
    "deletable": false,
    "editable": false,
    "nbgrader": {
     "cell_type": "code",
     "checksum": "26699ee52672879a02defe0dc4deb43b",
     "grade": false,
     "grade_id": "cell-cd975f95a36e617b",
     "locked": true,
     "schema_version": 3,
     "solution": false,
     "task": false
    }
   },
   "outputs": [],
   "source": [
    "T = 0.1\n",
    "sigma_acc = 2.0\n",
    "sigma_cam = 0.9\n",
    "x0 = np.array([[0.1], [1.0]])\n",
    "x0_filter = np.array([[0.0], [0.0]]) # so the filter starts with a wrong estimate\n",
    "P0 = np.identity(2)\n",
    "u = np.array([[1.0]])\n",
    "A, B, C, Q, R = get_system_1d(T, sigma_acc, sigma_cam)\n",
    "reset_seed()\n",
    "\n",
    "num_steps = 100\n",
    "time = T * np.arange(num_steps) + T\n",
    "x_history = np.zeros((A.shape[0], num_steps))\n",
    "z_history = np.zeros((C.shape[0], num_steps))\n",
    "dz_history = np.zeros((C.shape[0], num_steps))\n",
    "xhat_history = np.zeros((A.shape[0], num_steps))\n",
    "simulator = StochasticDynamicalSystemSimulator(A, B, C, Q, R, x0)\n",
    "filter = KalmanFilter(A, B, C, Q, R, x0_filter, P0)\n",
    "for i in range(num_steps):\n",
    "    x_history[:, i] = simulator.step(u).T\n",
    "    z_history[:, i] = simulator.observe()\n",
    "    filter.predict(u)\n",
    "    xhat, _ = filter.filter(z_history[:, i])\n",
    "    xhat_history[:, i] = xhat.T\n",
    "\n",
    "plt.figure()\n",
    "plt.plot(time, x_history[0, :])\n",
    "plt.plot(time, xhat_history[0, :])\n",
    "plt.plot(time, z_history[0, :], '.', zorder=-1)\n",
    "dz_history[0, 1:] = (1.0 / T) * np.diff(z_history[0, :])\n",
    "plt.grid()\n",
    "plt.xlabel('Time (s)')\n",
    "plt.ylabel('Position (m)')\n",
    "plt.title('Position Filtering')\n",
    "plt.legend(['Ground Truth', 'Estimate', 'Observation'])\n",
    "\n",
    "plt.figure()\n",
    "plt.plot(time, x_history[1, :])\n",
    "plt.plot(time, xhat_history[1, :])\n",
    "plt.plot(time, dz_history[0, :], '.', zorder=-1)\n",
    "plt.grid()\n",
    "plt.xlabel('Time (s)')\n",
    "plt.ylabel('Velocity (m/s)')\n",
    "plt.title('Velocity Filtering')\n",
    "plt.legend(['Ground Truth', 'Estimate', 'Observation'])\n",
    "\n",
    "plt.figure()\n",
    "plt.plot(time, x_history[1, :])\n",
    "plt.plot(time, xhat_history[1, :])\n",
    "plt.plot(time, dz_history[0, :], '.', zorder=-1)\n",
    "plt.ylim(0, 10)\n",
    "plt.grid()\n",
    "plt.xlabel('Time (s)')\n",
    "plt.ylabel('Velocity (m/s)')\n",
    "plt.title('Velocity Filtering (Zoom)')\n",
    "plt.legend(['Ground Truth', 'Estimate', 'Observation'])"
   ]
  },
  {
   "cell_type": "markdown",
   "metadata": {
    "deletable": false,
    "editable": false,
    "nbgrader": {
     "cell_type": "markdown",
     "checksum": "34d43c3fec770b9de90d8a48942b7977",
     "grade": false,
     "grade_id": "cell-75125ed37cf5dcc6",
     "locked": true,
     "schema_version": 3,
     "solution": false,
     "task": false
    }
   },
   "source": [
    "As discussed in class, in practice, in a tracking problem, the tracking has no access to the control input, so we consider $\\mathbf{u}_t=\\mathbf{0}$. In the following, the same simulation cell as before is repeated, but assuming that the filter receives $\\mathbf{u}_t=\\mathbf{0}$ in the prediction step, which does not match the acceleration effectively executed by the target. This mismatch between the filter and reality makes the filter take more time to converge, when compared to the previous simulation, especially as observed in the last plot (velocity plot with *zoom*)."
   ]
  },
  {
   "cell_type": "code",
   "execution_count": null,
   "metadata": {
    "deletable": false,
    "editable": false,
    "nbgrader": {
     "cell_type": "code",
     "checksum": "244e27be442a34c8ae8a33f27a213b8f",
     "grade": false,
     "grade_id": "cell-f0e7344625b8f0db",
     "locked": true,
     "schema_version": 3,
     "solution": false,
     "task": false
    }
   },
   "outputs": [],
   "source": [
    "T = 0.1\n",
    "sigma_acc = 2.0\n",
    "sigma_cam = 0.9\n",
    "x0 = np.array([[0.1], [1.0]])\n",
    "x0_filter = np.array([[0.0], [0.0]]) # so the filter starts with a wrong estimate\n",
    "P0 = np.identity(2)\n",
    "u = np.array([[1.0]])\n",
    "A, B, C, Q, R = get_system_1d(T, sigma_acc, sigma_cam)\n",
    "reset_seed()\n",
    "\n",
    "num_steps = 100\n",
    "time = T * np.arange(num_steps) + T\n",
    "x_history = np.zeros((A.shape[0], num_steps))\n",
    "z_history = np.zeros((C.shape[0], num_steps))\n",
    "dz_history = np.zeros((C.shape[0], num_steps))\n",
    "xhat_history = np.zeros((A.shape[0], num_steps))\n",
    "simulator = StochasticDynamicalSystemSimulator(A, B, C, Q, R, x0)\n",
    "filter = KalmanFilter(A, B, C, Q, R, x0_filter, P0)\n",
    "for i in range(num_steps):\n",
    "    x_history[:, i] = simulator.step(u).T\n",
    "    z_history[:, i] = simulator.observe().T\n",
    "    filter.predict(np.array([[0.0]]))\n",
    "    xhat, _ = filter.filter(z_history[:, i])\n",
    "    xhat_history[:, i] = xhat.T\n",
    "\n",
    "plt.figure()\n",
    "plt.plot(time, x_history[0, :])\n",
    "plt.plot(time, xhat_history[0, :])\n",
    "plt.plot(time, z_history[0, :], '.', zorder=-1)\n",
    "dz_history[0, 1:] = (1.0 / T) * np.diff(z_history[0, :])\n",
    "plt.grid()\n",
    "plt.xlabel('Time (s)')\n",
    "plt.ylabel('Position (m)')\n",
    "plt.title('Position Tracking')\n",
    "plt.legend(['Ground Truth', 'Estimate', 'Observation'])\n",
    "\n",
    "plt.figure()\n",
    "plt.plot(time, x_history[1, :])\n",
    "plt.plot(time, xhat_history[1, :])\n",
    "plt.plot(time, dz_history[0, :], '.', zorder=-1)\n",
    "plt.grid()\n",
    "plt.xlabel('Time (s)')\n",
    "plt.ylabel('Velocity (m/s)')\n",
    "plt.title('Velocity Tracking')\n",
    "plt.legend(['Ground Truth', 'Estimate', 'Observation'])\n",
    "\n",
    "plt.figure()\n",
    "plt.plot(time, x_history[1, :])\n",
    "plt.plot(time, xhat_history[1, :])\n",
    "plt.plot(time, dz_history[0, :], '.', zorder=-1)\n",
    "plt.ylim(-1, 10)\n",
    "plt.grid()\n",
    "plt.xlabel('Time (s)')\n",
    "plt.ylabel('Velocity (m/s)')\n",
    "plt.title('Velocity Tracking (Zoom)')\n",
    "plt.legend(['Ground Truth', 'Estimate', 'Observation'])"
   ]
  },
  {
   "cell_type": "markdown",
   "metadata": {
    "deletable": false,
    "editable": false,
    "nbgrader": {
     "cell_type": "markdown",
     "checksum": "86c9cb92a0e5a0f4f79fed3557213d72",
     "grade": false,
     "grade_id": "cell-74180ac6d81181ca",
     "locked": true,
     "schema_version": 3,
     "solution": false,
     "task": false
    }
   },
   "source": [
    "As shown in class, in a tracking problem in a video, we usually use a 2D kinematic model, where the state vector contains position and velocity in axes $x$ e $y$:\n",
    "\\begin{equation}\n",
    "\\mathbf{x}_t = \n",
    "\\begin{bmatrix}\n",
    "x_t \\\\ y_t \\\\ \\dot{x}_t \\\\ \\dot{y}_t\n",
    "\\end{bmatrix}.\n",
    "\\end{equation}\n",
    "\n",
    "Hence, the state space is given by\n",
    "\\begin{equation}\n",
    "\\mathbf{A} = \n",
    "\\begin{bmatrix}\n",
    "1 & 0 & T & 0 \\\\\n",
    "0 & 1 & 0 & T \\\\\n",
    "0 & 0 & 1 & 0 \\\\\n",
    "0 & 0 & 0 & 1\n",
    "\\end{bmatrix},\n",
    "\\end{equation}\n",
    "\\begin{equation}\n",
    "\\mathbf{B} = \n",
    "\\begin{bmatrix}\n",
    "\\dfrac{T^2}{2} & 0 \\\\\n",
    "0 & \\dfrac{T^2}{2} \\\\\n",
    "T & 0 \\\\\n",
    "0 & T\n",
    "\\end{bmatrix},\n",
    "\\end{equation}\n",
    "\\begin{equation}\n",
    "\\mathbf{C} = \n",
    "\\begin{bmatrix}\n",
    "1 & 0 & 0 & 0 \\\\\n",
    "0 & 1 & 0 & 0\n",
    "\\end{bmatrix},\n",
    "\\end{equation}\n",
    "\\begin{equation}\n",
    "\\mathbf{M} =\n",
    "\\begin{bmatrix}\n",
    "\\sigma^2_{\\mathrm{acc}} & 0 \\\\\n",
    "0 & \\sigma^2_{\\mathrm{acc}}\n",
    "\\end{bmatrix},\n",
    "\\end{equation}\n",
    "\\begin{equation}\n",
    "\\mathbf{Q} =\n",
    "\\mathbf{B} \\mathbf{M} \\mathbf{B}^T,\n",
    "\\end{equation}\n",
    "\\begin{equation}\n",
    "\\mathbf{R} =\n",
    "\\begin{bmatrix}\n",
    "\\sigma^2_{\\mathrm{cam}} & 0 \\\\\n",
    "0 & \\sigma^2_{\\mathrm{cam}}\n",
    "\\end{bmatrix}.\n",
    "\\end{equation}"
   ]
  },
  {
   "cell_type": "code",
   "execution_count": null,
   "metadata": {
    "deletable": false,
    "nbgrader": {
     "cell_type": "code",
     "checksum": "b3492ca740ecf09e235127c4b18ded1f",
     "grade": false,
     "grade_id": "system_2d_answer",
     "locked": false,
     "schema_version": 3,
     "solution": true,
     "task": false
    }
   },
   "outputs": [],
   "source": [
    "def get_system_2d(T, sigma_acc, sigma_cam):\n",
    "    \"\"\"\n",
    "    Obtains a stochastic dynamical system based on kinematics equations along a single axis \n",
    "    whose states are 2D position and velocity, and the input is 2D acceleration. Moreover, the\n",
    "    observation is the 2D position.\n",
    "    :return A: the state transition matrix.\n",
    "    :return B: the input matrix.\n",
    "    :return C: the observation matrix.\n",
    "    :return Q: the covariance matrix of the process noise.\n",
    "    :return R: the covariance matrix of the observation noise.\n",
    "    \"\"\"\n",
    "    # WRITE YOUR CODE HERE! (you can delete this comment, but do not delete this cell so the ID is not lost)\n",
    "    raise NotImplementedError()\n",
    "    return A, B, C, Q, R"
   ]
  },
  {
   "cell_type": "code",
   "execution_count": null,
   "metadata": {
    "deletable": false,
    "editable": false,
    "nbgrader": {
     "cell_type": "code",
     "checksum": "644aa019442d4fd6dcf47bfb3f225228",
     "grade": true,
     "grade_id": "system_2d_tests",
     "locked": true,
     "points": 2,
     "schema_version": 3,
     "solution": false,
     "task": false
    }
   },
   "outputs": [],
   "source": [
    "T = 0.1\n",
    "sigma_acc = 2.0\n",
    "sigma_cam = 0.9\n",
    "x0 = np.array([[0.0],\n",
    "               [0.0],\n",
    "               [0.0],\n",
    "               [0.0]])\n",
    "P0 = np.identity(4)\n",
    "u = np.array([[1.0],\n",
    "              [1.0]])\n",
    "A, B, C, Q, R = get_system_2d(T, sigma_acc, sigma_cam)\n",
    "reset_seed()\n",
    "\n",
    "simulator = StochasticDynamicalSystemSimulator(A, B, C, Q, R, x0)\n",
    "x = simulator.step(u)\n",
    "print(x)\n",
    "assert np.max(np.abs(x - np.array([[3.28589601e-05], [3.61735584e-03], [6.57169373e-04], [7.23471398e-02]]))) < 1e-3\n",
    "z = simulator.observe()\n",
    "print(z)\n",
    "assert np.max(np.abs(z - np.array([[-0.21070518], [-0.20710591]]))) < 1e-3"
   ]
  },
  {
   "cell_type": "markdown",
   "metadata": {
    "deletable": false,
    "editable": false,
    "nbgrader": {
     "cell_type": "markdown",
     "checksum": "5e90e6f43b2a2bcad98fbe9a071ce9ee",
     "grade": false,
     "grade_id": "cell-92de89d411ed65dd",
     "locked": true,
     "schema_version": 3,
     "solution": false,
     "task": false
    }
   },
   "source": [
    "In the following experiment, we verify the performance of a 2D tracker based on the Kalman filter. We simulate 500 simulation steps with $T = 0.1 \\ s$. During time steps $t \\in [270, 300)$, we simulate loss of object detection (which may occur due to occlusion, for example), so the filter stays executing only prediction steps during this time. We point out that the filter is capable to maintain a resonable estimate until the detection resumes."
   ]
  },
  {
   "cell_type": "code",
   "execution_count": null,
   "metadata": {
    "deletable": false,
    "editable": false,
    "nbgrader": {
     "cell_type": "code",
     "checksum": "ed5f67f4da8f725c9d15390ea21c0187",
     "grade": false,
     "grade_id": "cell-0e5c62e900316074",
     "locked": true,
     "schema_version": 3,
     "solution": false,
     "task": false
    }
   },
   "outputs": [],
   "source": [
    "T = 0.1\n",
    "sigma_acc = 2.0\n",
    "sigma_cam = 0.9\n",
    "x0 = np.array([[0.0],\n",
    "               [0.0],\n",
    "               [0.0],\n",
    "               [0.0]])\n",
    "P0 = np.identity(4)\n",
    "u = np.array([[1.0],\n",
    "              [1.0]])\n",
    "A, B, C, Q, R = get_system_2d(T, sigma_acc, sigma_cam)\n",
    "reset_seed()\n",
    "\n",
    "num_steps = 500\n",
    "time = T * np.arange(num_steps) + T\n",
    "x_history = np.zeros((A.shape[0], num_steps))\n",
    "z_history = np.zeros((C.shape[0], num_steps))\n",
    "dz_history = np.zeros((C.shape[0], num_steps))\n",
    "xhat_history = np.zeros((A.shape[0], num_steps))\n",
    "simulator = StochasticDynamicalSystemSimulator(A, B, C, Q, R, x0)\n",
    "filter = KalmanFilter(A, B, C, Q, R, x0, P0)\n",
    "for i in range(num_steps):\n",
    "    t = i * T\n",
    "    u[0, 0] = sin(t / (2.0 * pi) + pi / 2.0)\n",
    "    u[1, 0] = sin(t / (2.0 * pi) * t)\n",
    "    x_history[:, i] = simulator.step(u)[:, 0]\n",
    "    z_history[:, i] = simulator.observe()[:, 0]\n",
    "    x, _ = filter.predict(np.array([[0.0], [0.0]]))\n",
    "    if i >= 270 and i < 300:\n",
    "        z_history[:, i] = np.array([inf, inf])\n",
    "    else:\n",
    "        filter.filter(np.array([z_history[:, i]]).T)\n",
    "    xhat_history[:, i] = (filter.x)[:, 0]\n",
    "    \n",
    "plt.figure()\n",
    "plt.plot(x_history[0, :], x_history[1, :])\n",
    "plt.plot(xhat_history[0, :], xhat_history[1, :])\n",
    "plt.plot(z_history[0, :], z_history[1, :], '.', zorder=-1)\n",
    "plt.grid()\n",
    "plt.xlabel('X (m)')\n",
    "plt.ylabel('Y (m)')\n",
    "plt.title('X-Y view')\n",
    "plt.legend(['Ground Truth', 'Estimate', 'Observation'])\n",
    "\n",
    "plt.figure()\n",
    "plt.plot(time, x_history[2, :])\n",
    "plt.plot(time, xhat_history[2, :])\n",
    "plt.grid()\n",
    "plt.xlabel('Time (s)')\n",
    "plt.ylabel('X Velocity (m/s)')\n",
    "plt.title('X Velocity Tracking')\n",
    "plt.legend(['Ground Truth', 'Estimate'])\n",
    "\n",
    "plt.figure()\n",
    "plt.plot(time, x_history[3, :])\n",
    "plt.plot(time, xhat_history[3, :])\n",
    "plt.grid()\n",
    "plt.xlabel('Time (s)')\n",
    "plt.ylabel('Y Velocity (m/s)')\n",
    "plt.title('Y Velocity Tracking')\n",
    "plt.legend(['Ground Truth', 'Estimate'])"
   ]
  },
  {
   "cell_type": "markdown",
   "metadata": {},
   "source": [
    "# Your data and feedback:\n",
    "\n",
    "Write a feedback for the lab so we can make it better for the next years."
   ]
  },
  {
   "cell_type": "markdown",
   "metadata": {},
   "source": [
    "In the following variables, write the number of hours spent on this lab, the perceived difficulty, and the expected grade (you may delete the `raise` and the comments):"
   ]
  },
  {
   "cell_type": "code",
   "execution_count": null,
   "metadata": {
    "deletable": false,
    "nbgrader": {
     "cell_type": "code",
     "checksum": "36f613d80a345c28aaf937672ec9e9f5",
     "grade": true,
     "grade_id": "meta_eval",
     "locked": false,
     "points": 0,
     "schema_version": 3,
     "solution": true,
     "task": false
    }
   },
   "outputs": [],
   "source": [
    "# meta_eval manual_graded_answer 0\n",
    "\n",
    "horas_gastas = None    # 1.5   - Float number with the number of hours spent \n",
    "dificuldade_lab = None # 0     - Float number from 0.0 to 10.0 (inclusive)\n",
    "nota_esperada = None   # 10    - Float number from 0.0 to 10.0 (inclusive)\n",
    "\n",
    "# WRITE YOUR CODE HERE! (you can delete this comment, but do not delete this cell so the ID is not lost)\n",
    "raise NotImplementedError()"
   ]
  },
  {
   "cell_type": "markdown",
   "metadata": {},
   "source": [
    "Write below other comments or feedbacks about the lab. If you did not understand anything about the lab, please also comment here.\n",
    "\n",
    "If you find any typo or bug in the lab, please comment below so we can fix it."
   ]
  },
  {
   "cell_type": "markdown",
   "metadata": {
    "deletable": false,
    "nbgrader": {
     "cell_type": "markdown",
     "checksum": "fc6431aff9a971fe5ed82c62bc668c96",
     "grade": true,
     "grade_id": "meta_eval_discursivo",
     "locked": false,
     "points": 0,
     "schema_version": 3,
     "solution": true,
     "task": false
    }
   },
   "source": [
    "WRITE YOUR SOLUTION HERE! (do not change this first line):\n",
    "\n",
    "**ATTENTION**\n",
    "\n",
    "**ATTENTION**\n",
    "\n",
    "**ATTENTION**\n",
    "\n",
    "**ATTENTION**\n",
    "\n",
    "**DISCURSIVE QUESTION**\n",
    "\n",
    "WRITE YOUR ANSWER HERE (do not delete this cell so the ID is not lost)\n",
    "\n",
    "**ATTENTION**\n",
    "\n",
    "**ATTENTION**\n"
   ]
  },
  {
   "cell_type": "markdown",
   "metadata": {},
   "source": [
    "**End of the lab!**"
   ]
  }
 ],
 "metadata": {
  "kernelspec": {
   "display_name": "Python 3 (ipykernel)",
   "language": "python",
   "name": "python3"
  },
  "language_info": {
   "codemirror_mode": {
    "name": "ipython",
    "version": 3
   },
   "file_extension": ".py",
   "mimetype": "text/x-python",
   "name": "python",
   "nbconvert_exporter": "python",
   "pygments_lexer": "ipython3",
   "version": "3.10.12"
  }
 },
 "nbformat": 4,
 "nbformat_minor": 1
}
